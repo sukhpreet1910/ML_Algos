{
 "cells": [
  {
   "cell_type": "markdown",
   "id": "d3a5cb1d",
   "metadata": {},
   "source": [
    "### MiniBatch Gradient Descent from scratch"
   ]
  },
  {
   "cell_type": "code",
   "execution_count": 4,
   "id": "49747177",
   "metadata": {},
   "outputs": [],
   "source": [
    "import numpy as np\n",
    "import random\n",
    "from sklearn.model_selection import train_test_split\n",
    "from sklearn.metrics import r2_score\n",
    "from sklearn.datasets import load_diabetes"
   ]
  },
  {
   "cell_type": "code",
   "execution_count": 6,
   "id": "2a5f34ed",
   "metadata": {},
   "outputs": [],
   "source": [
    "X, y = load_diabetes(return_X_y=True)"
   ]
  },
  {
   "cell_type": "code",
   "execution_count": 7,
   "id": "1a58c89b",
   "metadata": {},
   "outputs": [],
   "source": [
    "X_train, X_test, y_train, y_test = train_test_split(X, y, test_size=0.2, random_state=2)"
   ]
  },
  {
   "cell_type": "code",
   "execution_count": 10,
   "id": "3b604df5",
   "metadata": {},
   "outputs": [
    {
     "name": "stdout",
     "output_type": "stream",
     "text": [
      "(353, 10)\n",
      "(353,)\n"
     ]
    }
   ],
   "source": [
    "print(X_train.shape)\n",
    "print(y_train.shape)"
   ]
  },
  {
   "cell_type": "code",
   "execution_count": 29,
   "id": "d95c5bf6",
   "metadata": {},
   "outputs": [],
   "source": [
    "class MiniBatchGD:\n",
    "    \n",
    "    def __init__(self, epochs, learning_rate, batch):\n",
    "        self.coef_ = None\n",
    "        self.intercept_ = None\n",
    "        self.epochs = epochs\n",
    "        self.learning_rate = learning_rate\n",
    "        self.batch = batch\n",
    "        \n",
    "        \n",
    "    def fit(self, X_train, y_train):\n",
    "        \n",
    "        self.coef_ = np.ones(X_train.shape[1])\n",
    "        self.intercept_ = 0\n",
    "        \n",
    "        \n",
    "        \n",
    "        for i in range(self.epochs):\n",
    "            for j in range(0, X_train.shape[0], self.batch):\n",
    "                nth =  random.sample(range(X_train.shape[0]), self.batch)\n",
    "                \n",
    "                \n",
    "                y_hat = np.dot(X_train[nth], self.coef_) + self.intercept_\n",
    "                \n",
    "                intercept_derivative = -2 * np.mean(y_train[nth] - y_hat)\n",
    "                self.intercept_ = self.intercept_ - (self.learning_rate * intercept_derivative)\n",
    "                \n",
    "                coef_derivative = -2 * np.dot((y_train[nth] - y_hat), X_train[nth])\n",
    "                self.coef_ = self.coef_ - (self.learning_rate * coef_derivative)\n",
    "        print('Coef: ', self.coef_, '\\n', 'Intercept: ', self.intercept_)\n",
    "                \n",
    "    def predict(self, X_test):\n",
    "        return np.dot(X_test, self.coef_) + self.intercept_\n",
    "                "
   ]
  },
  {
   "cell_type": "code",
   "execution_count": 119,
   "id": "4bcf1024",
   "metadata": {},
   "outputs": [],
   "source": [
    "mngd = MiniBatchGD(20, 0.5, 10)"
   ]
  },
  {
   "cell_type": "code",
   "execution_count": 120,
   "id": "0602cc84",
   "metadata": {},
   "outputs": [
    {
     "name": "stdout",
     "output_type": "stream",
     "text": [
      "Coef:  [ -49.45312398 -185.84125698  530.85053008  276.94784319 -149.59153472\n",
      "  -62.6727502  -123.75968594   95.83728797  544.392372    -58.05489262] \n",
      " Intercept:  146.8099192365508\n"
     ]
    }
   ],
   "source": [
    "mngd.fit(X_train, y_train)"
   ]
  },
  {
   "cell_type": "code",
   "execution_count": 121,
   "id": "0c56f8d7",
   "metadata": {},
   "outputs": [],
   "source": [
    "y_pred = mngd.predict(X_test)"
   ]
  },
  {
   "cell_type": "code",
   "execution_count": 122,
   "id": "21686804",
   "metadata": {},
   "outputs": [
    {
     "data": {
      "text/plain": [
       "0.43533957825152036"
      ]
     },
     "execution_count": 122,
     "metadata": {},
     "output_type": "execute_result"
    }
   ],
   "source": [
    "r2_score(y_test, y_pred)"
   ]
  },
  {
   "cell_type": "code",
   "execution_count": null,
   "id": "e56e452d",
   "metadata": {},
   "outputs": [],
   "source": []
  }
 ],
 "metadata": {
  "kernelspec": {
   "display_name": "Python 3 (ipykernel)",
   "language": "python",
   "name": "python3"
  },
  "language_info": {
   "codemirror_mode": {
    "name": "ipython",
    "version": 3
   },
   "file_extension": ".py",
   "mimetype": "text/x-python",
   "name": "python",
   "nbconvert_exporter": "python",
   "pygments_lexer": "ipython3",
   "version": "3.11.5"
  }
 },
 "nbformat": 4,
 "nbformat_minor": 5
}
