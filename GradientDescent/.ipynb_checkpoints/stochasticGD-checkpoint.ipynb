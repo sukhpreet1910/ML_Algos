{
 "cells": [
  {
   "cell_type": "markdown",
   "id": "c4dd449d",
   "metadata": {},
   "source": [
    "### Stochastic Gradient Descent From Scratch"
   ]
  },
  {
   "cell_type": "code",
   "execution_count": 23,
   "id": "d46ee813",
   "metadata": {},
   "outputs": [],
   "source": [
    "import numpy as np\n",
    "import random\n",
    "from sklearn.model_selection import train_test_split\n",
    "from sklearn.metrics import r2_score\n",
    "from sklearn.datasets import load_diabetes\n"
   ]
  },
  {
   "cell_type": "code",
   "execution_count": 83,
   "id": "6c022f46",
   "metadata": {},
   "outputs": [
    {
     "name": "stdout",
     "output_type": "stream",
     "text": [
      "(442, 10)\n",
      "(442,)\n"
     ]
    }
   ],
   "source": [
    "X, y = load_diabetes(return_X_y=True)\n",
    "print(X.shape)\n",
    "print(y.shape)"
   ]
  },
  {
   "cell_type": "code",
   "execution_count": 85,
   "id": "8cf67498",
   "metadata": {},
   "outputs": [],
   "source": [
    "X_train, X_test, y_train, y_test = train_test_split(X, y, test_size=0.2, random_state=2)"
   ]
  },
  {
   "cell_type": "code",
   "execution_count": 148,
   "id": "72b1f9db",
   "metadata": {},
   "outputs": [],
   "source": [
    "class StochasticGD:\n",
    "    \n",
    "    def __init__(self, epochs, learning_rate):\n",
    "        self.intercept_ = None\n",
    "        self.coef_ = None\n",
    "        self.epochs = epochs \n",
    "        self.learning_rate = learning_rate\n",
    "        \n",
    "    def fit(self, X_train, y_train):\n",
    "        self.intercept_ = 0\n",
    "        self.coef_ = np.ones(X_train.shape[1])\n",
    "        \n",
    "        for i in range(self.epochs):\n",
    "            for j in range(X_train.shape[0]):\n",
    "                \n",
    "                nth = np.random.randint(0, X_train.shape[0])\n",
    "        \n",
    "                y_hat = np.dot(X_train[nth], self.coef_) + self.intercept_\n",
    "\n",
    "            \n",
    "                intercept_derivative = -2 * (y_train[nth] - y_hat)\n",
    "                self.intercept_ = self.intercept_ - (self.learning_rate * intercept_derivative)\n",
    "                \n",
    "                \n",
    "                coef_derivative = -2 * np.dot((y_train[nth] - y_hat), X_train[nth])\n",
    "                self.coef_ = self.coef_ - (self.learning_rate * coef_derivative)\n",
    "        print(\"Intercept: \", self.intercept_, \"\\n\",\"Coef: \", self.coef_)\n",
    "        \n",
    "    \n",
    "    def predict(self, X_test):\n",
    "        return np.dot(X_test, self.coef_) + self.intercept_\n",
    "\n",
    "\n"
   ]
  },
  {
   "cell_type": "code",
   "execution_count": 153,
   "id": "e1318df6",
   "metadata": {},
   "outputs": [],
   "source": [
    "sgd = StochasticGD(25, 0.15)"
   ]
  },
  {
   "cell_type": "code",
   "execution_count": 154,
   "id": "d1132d3c",
   "metadata": {},
   "outputs": [
    {
     "name": "stdout",
     "output_type": "stream",
     "text": [
      "Intercept:  147.5291154410762 \n",
      " Coef:  [ -51.51627205 -209.47228347  559.36480387  387.00971809  -58.3181783\n",
      " -112.93645634 -159.40034655   79.30848191  495.34810602   71.2003701 ]\n"
     ]
    }
   ],
   "source": [
    "sgd.fit(X_train, y_train)"
   ]
  },
  {
   "cell_type": "code",
   "execution_count": 155,
   "id": "55dbea57",
   "metadata": {},
   "outputs": [],
   "source": [
    "y_pred = sgd.predict(X_test)"
   ]
  },
  {
   "cell_type": "code",
   "execution_count": 156,
   "id": "6e86b383",
   "metadata": {},
   "outputs": [
    {
     "data": {
      "text/plain": [
       "0.43810301014112796"
      ]
     },
     "execution_count": 156,
     "metadata": {},
     "output_type": "execute_result"
    }
   ],
   "source": [
    "r2_score(y_test, y_pred)"
   ]
  },
  {
   "cell_type": "code",
   "execution_count": null,
   "id": "2a94729a",
   "metadata": {},
   "outputs": [],
   "source": []
  }
 ],
 "metadata": {
  "kernelspec": {
   "display_name": "Python 3 (ipykernel)",
   "language": "python",
   "name": "python3"
  },
  "language_info": {
   "codemirror_mode": {
    "name": "ipython",
    "version": 3
   },
   "file_extension": ".py",
   "mimetype": "text/x-python",
   "name": "python",
   "nbconvert_exporter": "python",
   "pygments_lexer": "ipython3",
   "version": "3.11.5"
  }
 },
 "nbformat": 4,
 "nbformat_minor": 5
}
