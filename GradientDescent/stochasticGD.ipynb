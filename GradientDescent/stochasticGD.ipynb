{
 "cells": [
  {
   "cell_type": "markdown",
   "id": "895c1d57",
   "metadata": {},
   "source": [
    "### Stochastic Gradient Descent From Scratch"
   ]
  },
  {
   "cell_type": "code",
   "execution_count": 23,
   "id": "acf3fbc5",
   "metadata": {},
   "outputs": [],
   "source": [
    "import numpy as np\n",
    "import random\n",
    "from sklearn.model_selection import train_test_split\n",
    "from sklearn.metrics import r2_score\n",
    "from sklearn.datasets import load_diabetes\n"
   ]
  },
  {
   "cell_type": "code",
   "execution_count": 83,
   "id": "59cbe366",
   "metadata": {},
   "outputs": [
    {
     "name": "stdout",
     "output_type": "stream",
     "text": [
      "(442, 10)\n",
      "(442,)\n"
     ]
    }
   ],
   "source": [
    "X, y = load_diabetes(return_X_y=True)\n",
    "print(X.shape)\n",
    "print(y.shape)"
   ]
  },
  {
   "cell_type": "code",
   "execution_count": 85,
   "id": "f7ca27d8",
   "metadata": {},
   "outputs": [],
   "source": [
    "X_train, X_test, y_train, y_test = train_test_split(X, y, test_size=0.2, random_state=2)"
   ]
  },
  {
   "cell_type": "code",
   "execution_count": 90,
   "id": "d2178c4a",
   "metadata": {},
   "outputs": [],
   "source": [
    "class StochasticGD:\n",
    "    \n",
    "    def __init__(self, epochs, learning_rate):\n",
    "        self.intercept_ = None\n",
    "        self.coef_ = None\n",
    "        self.epochs = epochs \n",
    "        self.learning_rate = learning_rate\n",
    "        \n",
    "    def fit(self, X_train, y_train):\n",
    "        self.intercept_ = 0\n",
    "        self.coef_ = np.ones(X_train.shape[1])\n",
    "        \n",
    "        for i in range(self.epochs):\n",
    "            for j in range(X_train.shape[0]):\n",
    "                \n",
    "                nth = np.random.randint(0, X_train.shape[0])\n",
    "        \n",
    "                y_hat = np.dot(X_train[nth], self.coef_) + self.intercept_\n",
    "\n",
    "            \n",
    "                intercept_derivative = -2 * (y_train[nth] - y_hat)\n",
    "                self.intercept_ = self.intercept_ - (self.learning_rate * intercept_derivative)\n",
    "                \n",
    "                \n",
    "                coef_derivative = -2 * np.dot((y_train[nth] - y_hat), X_train[nth])\n",
    "                self.coef_ = self.coef_ - (self.learning_rate * coef_derivative)\n",
    "        print(\"Intercept: \", self.intercept_, \"\\n\",\"Corf: \", self.coef_)\n",
    "        \n",
    "    \n",
    "    def predict(self, X_test):\n",
    "        return np.dot(X_test, self.coef_) + self.intercept_\n",
    "\n",
    "\n"
   ]
  },
  {
   "cell_type": "code",
   "execution_count": 144,
   "id": "2f31287f",
   "metadata": {},
   "outputs": [],
   "source": [
    "sgd = StochasticGD(25, 0.15)"
   ]
  },
  {
   "cell_type": "code",
   "execution_count": 145,
   "id": "45d45a11",
   "metadata": {},
   "outputs": [
    {
     "name": "stdout",
     "output_type": "stream",
     "text": [
      "Intercept:  156.42857621524817 \n",
      " Corf:  [  -4.01999749 -157.39878493  488.21622413  328.848123    -92.5139977\n",
      " -128.71194094 -195.20497669   82.2843895   526.98903869   59.36241099]\n"
     ]
    }
   ],
   "source": [
    "sgd.fit(X_train, y_train)"
   ]
  },
  {
   "cell_type": "code",
   "execution_count": 146,
   "id": "88cd26c9",
   "metadata": {},
   "outputs": [],
   "source": [
    "y_pred = sgd.predict(X_test)"
   ]
  },
  {
   "cell_type": "code",
   "execution_count": 147,
   "id": "a3fe7678",
   "metadata": {},
   "outputs": [
    {
     "data": {
      "text/plain": [
       "0.44126086253225105"
      ]
     },
     "execution_count": 147,
     "metadata": {},
     "output_type": "execute_result"
    }
   ],
   "source": [
    "r2_score(y_test, y_pred)"
   ]
  }
 ],
 "metadata": {
  "kernelspec": {
   "display_name": "Python 3 (ipykernel)",
   "language": "python",
   "name": "python3"
  },
  "language_info": {
   "codemirror_mode": {
    "name": "ipython",
    "version": 3
   },
   "file_extension": ".py",
   "mimetype": "text/x-python",
   "name": "python",
   "nbconvert_exporter": "python",
   "pygments_lexer": "ipython3",
   "version": "3.11.5"
  }
 },
 "nbformat": 4,
 "nbformat_minor": 5
}
