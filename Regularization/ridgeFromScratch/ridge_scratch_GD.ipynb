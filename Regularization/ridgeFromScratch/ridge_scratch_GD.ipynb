{
 "cells": [
  {
   "cell_type": "markdown",
   "id": "62f4d0ac",
   "metadata": {},
   "source": [
    "### Ridge Gradient Descent using Sklearn"
   ]
  },
  {
   "cell_type": "code",
   "execution_count": 2,
   "id": "90d04843",
   "metadata": {},
   "outputs": [],
   "source": [
    "from sklearn.datasets import load_diabetes \n",
    "from sklearn.metrics import r2_score \n",
    "from sklearn.model_selection import train_test_split\n",
    "import numpy as np "
   ]
  },
  {
   "cell_type": "code",
   "execution_count": 3,
   "id": "9cbff9ea",
   "metadata": {},
   "outputs": [],
   "source": [
    "X, y = load_diabetes(return_X_y=True)"
   ]
  },
  {
   "cell_type": "code",
   "execution_count": 4,
   "id": "13928594",
   "metadata": {},
   "outputs": [],
   "source": [
    "X_train, X_test, y_train, y_test = train_test_split(X, y, train_size=0.2, random_state=42)"
   ]
  },
  {
   "cell_type": "markdown",
   "id": "516cbc49",
   "metadata": {},
   "source": [
    "#### Using Stochastic Gradient "
   ]
  },
  {
   "cell_type": "code",
   "execution_count": 5,
   "id": "255bc4fe",
   "metadata": {},
   "outputs": [],
   "source": [
    "from sklearn.linear_model import SGDRegressor"
   ]
  },
  {
   "cell_type": "code",
   "execution_count": 19,
   "id": "c84cb674",
   "metadata": {},
   "outputs": [],
   "source": [
    "Rig = SGDRegressor(penalty='l2', max_iter=500, learning_rate='constant', alpha = 0.001)"
   ]
  },
  {
   "cell_type": "code",
   "execution_count": 20,
   "id": "2c4f30f7",
   "metadata": {},
   "outputs": [
    {
     "name": "stdout",
     "output_type": "stream",
     "text": [
      "0.3353128509091913\n",
      "[  3.19990325 -21.01986191 203.76262017 203.65702716  65.02797072\n",
      "  43.08527037 -72.7447412   78.97382216 142.50950898  85.59583419]\n",
      "[141.37632544]\n"
     ]
    }
   ],
   "source": [
    "Rig.fit(X_train, y_train)\n",
    "y_pred = Rig.predict(X_test)\n",
    "print(r2_score(y_test, y_pred))\n",
    "print(Rig.coef_)\n",
    "print(Rig.intercept_)"
   ]
  },
  {
   "cell_type": "markdown",
   "id": "00006a76",
   "metadata": {},
   "source": [
    "#### Using Ridge class"
   ]
  },
  {
   "cell_type": "code",
   "execution_count": 21,
   "id": "25acacd7",
   "metadata": {},
   "outputs": [],
   "source": [
    "from sklearn.linear_model import Ridge"
   ]
  },
  {
   "cell_type": "code",
   "execution_count": 22,
   "id": "42b0dac8",
   "metadata": {},
   "outputs": [],
   "source": [
    "Rig = Ridge(alpha=0.001, solver='sparse_cg', max_iter=500)"
   ]
  },
  {
   "cell_type": "code",
   "execution_count": 23,
   "id": "138bc0d4",
   "metadata": {},
   "outputs": [
    {
     "name": "stdout",
     "output_type": "stream",
     "text": [
      "0.43622329206208177\n",
      "[ -82.98803201 -139.83188853  619.50831282  528.10508255   48.85467527\n",
      "  -67.01268005 -149.29410032  -64.62411571  281.64181343  -45.97596501]\n",
      "140.50614377336677\n"
     ]
    }
   ],
   "source": [
    "Rig.fit(X_train, y_train)\n",
    "y_pred = Rig.predict(X_test)\n",
    "\n",
    "\n",
    "print(r2_score(y_test, y_pred))\n",
    "print(Rig.coef_)\n",
    "print(Rig.intercept_)"
   ]
  },
  {
   "cell_type": "markdown",
   "id": "329eaddd",
   "metadata": {},
   "source": [
    "#### From scratch "
   ]
  },
  {
   "cell_type": "code",
   "execution_count": 58,
   "id": "d34973f6",
   "metadata": {},
   "outputs": [],
   "source": [
    "class RidgeSGD():\n",
    "    \n",
    "    def __init__(self, alpha, epochs, learning_rate):\n",
    "        \n",
    "        self.alpha = alpha\n",
    "        self.coef_ = None\n",
    "        self.intercept_ = None\n",
    "        self.epochs = epochs\n",
    "        self.learning_rate = learning_rate\n",
    "        \n",
    "    \n",
    "    def fit(self, X_train, y_train):\n",
    "        \n",
    "        self.coef_ = np.ones(X_train.shape[1])\n",
    "        self.intercept_ = 0\n",
    "        theta = np.insert(self.coef_, 0 , self.intercept_)\n",
    "        \n",
    "        X_train = np.insert(X_train, 0, 1, axis = 1)\n",
    "        \n",
    "        for i in range(self.epochs):\n",
    "            theta_der = np.dot(X_train.T, X_train).dot(theta) - np.dot(X_train.T, y_train) + self.alpha*theta\n",
    "            \n",
    "            theta = theta - self.learning_rate * theta_der\n",
    "            \n",
    "        self.coef_ = theta[1:]\n",
    "        self.intercept_ = theta[0]\n",
    "        \n",
    "        \n",
    "    def predict(self, X_test):\n",
    "        return np.dot(X_test, self.coef_) + self.intercept_\n",
    "        \n",
    "        "
   ]
  },
  {
   "cell_type": "code",
   "execution_count": 59,
   "id": "c47c6e87",
   "metadata": {},
   "outputs": [],
   "source": [
    "Rig = RidgeSGD(alpha = 0.001, epochs = 500, learning_rate=0.005)"
   ]
  },
  {
   "cell_type": "code",
   "execution_count": 60,
   "id": "beb23276",
   "metadata": {},
   "outputs": [],
   "source": [
    "Rig.fit(X_train, y_train)"
   ]
  },
  {
   "cell_type": "code",
   "execution_count": 61,
   "id": "ac10059b",
   "metadata": {},
   "outputs": [
    {
     "name": "stdout",
     "output_type": "stream",
     "text": [
      "0.3816533352993191\n"
     ]
    }
   ],
   "source": [
    "y_pred = Rig.predict(X_test)\n",
    "print(r2_score(y_test, y_pred))\n"
   ]
  },
  {
   "cell_type": "code",
   "execution_count": null,
   "id": "d811bb8a",
   "metadata": {},
   "outputs": [],
   "source": []
  }
 ],
 "metadata": {
  "kernelspec": {
   "display_name": "Python 3 (ipykernel)",
   "language": "python",
   "name": "python3"
  },
  "language_info": {
   "codemirror_mode": {
    "name": "ipython",
    "version": 3
   },
   "file_extension": ".py",
   "mimetype": "text/x-python",
   "name": "python",
   "nbconvert_exporter": "python",
   "pygments_lexer": "ipython3",
   "version": "3.11.5"
  }
 },
 "nbformat": 4,
 "nbformat_minor": 5
}
