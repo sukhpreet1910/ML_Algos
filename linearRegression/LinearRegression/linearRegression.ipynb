{
 "cells": [
  {
   "cell_type": "markdown",
   "id": "b920d123",
   "metadata": {},
   "source": [
    "**Writing a class for linear regression, with same formula as in sklearn**"
   ]
  },
  {
   "cell_type": "code",
   "execution_count": 111,
   "id": "2e6f3b82",
   "metadata": {},
   "outputs": [],
   "source": [
    "class MyLinearRegression():\n",
    "    \n",
    "    def __init__(self):\n",
    "        self.w = None\n",
    "        self.b = None\n",
    "        \n",
    "    def fit(self, X_train, y_train):\n",
    "        num = 0\n",
    "        dnom = 0\n",
    "        \n",
    "        for i in range(X_train.shape[0]):\n",
    "            \n",
    "            num += (X_train[i] - X_train.mean()) * (y_train[i] - y_train.mean())\n",
    "            dnom += (X_train[i] - X_train.mean()) ** 2\n",
    "            self.w = num/dnom\n",
    "            \n",
    "            self.b = y_train.mean() - (self.w * X_train.mean())\n",
    "            \n",
    "        print(self.w)\n",
    "        print(self.b)\n",
    "    \n",
    "    \n",
    "    def predict(self, X_test):\n",
    "        \n",
    "        print(X_test)\n",
    "        return self.w * X_test + self.b\n",
    "            "
   ]
  },
  {
   "cell_type": "code",
   "execution_count": 85,
   "id": "93e9dc1f",
   "metadata": {},
   "outputs": [],
   "source": [
    "import pandas as pd\n",
    "import numpy as np\n",
    "import matplotlib.pyplot as plt"
   ]
  },
  {
   "cell_type": "code",
   "execution_count": 86,
   "id": "2774a997",
   "metadata": {},
   "outputs": [],
   "source": [
    "df = pd.read_csv('../placement.csv', )"
   ]
  },
  {
   "cell_type": "code",
   "execution_count": 91,
   "id": "29e2c299",
   "metadata": {},
   "outputs": [],
   "source": [
    "X = df.iloc[:, 0].values\n",
    "y = df.iloc[:, 1].values"
   ]
  },
  {
   "cell_type": "code",
   "execution_count": 92,
   "id": "1dd43cad",
   "metadata": {},
   "outputs": [],
   "source": [
    "from sklearn.model_selection import train_test_split\n",
    "X_train, X_test, y_train, y_test = train_test_split(X, y, test_size = 0.2, random_state = 2)"
   ]
  },
  {
   "cell_type": "code",
   "execution_count": 95,
   "id": "e62e90fe",
   "metadata": {},
   "outputs": [
    {
     "data": {
      "text/plain": [
       "(160,)"
      ]
     },
     "execution_count": 95,
     "metadata": {},
     "output_type": "execute_result"
    }
   ],
   "source": [
    "X_train.shape"
   ]
  },
  {
   "cell_type": "code",
   "execution_count": 112,
   "id": "5722f3a5",
   "metadata": {},
   "outputs": [],
   "source": [
    "lr = MyLinearRegression()"
   ]
  },
  {
   "cell_type": "code",
   "execution_count": 113,
   "id": "6302311a",
   "metadata": {},
   "outputs": [
    {
     "name": "stdout",
     "output_type": "stream",
     "text": [
      "0.5579519734250721\n",
      "-0.8961119222429152\n"
     ]
    }
   ],
   "source": [
    "lr.fit(X_train, y_train)"
   ]
  },
  {
   "cell_type": "code",
   "execution_count": 120,
   "id": "60409e2c",
   "metadata": {},
   "outputs": [
    {
     "data": {
      "text/plain": [
       "8.58"
      ]
     },
     "execution_count": 120,
     "metadata": {},
     "output_type": "execute_result"
    }
   ],
   "source": [
    "X_test[0]"
   ]
  },
  {
   "cell_type": "code",
   "execution_count": 121,
   "id": "b7ab6328",
   "metadata": {},
   "outputs": [
    {
     "data": {
      "text/plain": [
       "4.1"
      ]
     },
     "execution_count": 121,
     "metadata": {},
     "output_type": "execute_result"
    }
   ],
   "source": [
    "y_test[0]"
   ]
  },
  {
   "cell_type": "code",
   "execution_count": 122,
   "id": "1594fb0d",
   "metadata": {},
   "outputs": [
    {
     "name": "stdout",
     "output_type": "stream",
     "text": [
      "8.58\n"
     ]
    },
    {
     "data": {
      "text/plain": [
       "3.891116009744203"
      ]
     },
     "execution_count": 122,
     "metadata": {},
     "output_type": "execute_result"
    }
   ],
   "source": [
    "lr.predict(X_test[0])"
   ]
  },
  {
   "cell_type": "code",
   "execution_count": null,
   "id": "5f45bf52",
   "metadata": {},
   "outputs": [],
   "source": []
  }
 ],
 "metadata": {
  "kernelspec": {
   "display_name": "Python 3 (ipykernel)",
   "language": "python",
   "name": "python3"
  },
  "language_info": {
   "codemirror_mode": {
    "name": "ipython",
    "version": 3
   },
   "file_extension": ".py",
   "mimetype": "text/x-python",
   "name": "python",
   "nbconvert_exporter": "python",
   "pygments_lexer": "ipython3",
   "version": "3.11.5"
  }
 },
 "nbformat": 4,
 "nbformat_minor": 5
}
